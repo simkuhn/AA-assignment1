{
 "cells": [
  {
   "cell_type": "code",
   "execution_count": 1,
   "id": "5a9cc00b",
   "metadata": {},
   "outputs": [],
   "source": [
    "## Preliminary"
   ]
  },
  {
   "cell_type": "code",
   "execution_count": 2,
   "id": "aa5f0bf0",
   "metadata": {},
   "outputs": [
    {
     "name": "stdout",
     "output_type": "stream",
     "text": [
      "Requirement already satisfied: mitosheet in /Users/simonkuhn/opt/anaconda3/lib/python3.9/site-packages (0.1.469)\n",
      "Requirement already satisfied: jupyterlab~=3.0 in /Users/simonkuhn/opt/anaconda3/lib/python3.9/site-packages (from mitosheet) (3.4.4)\n",
      "Requirement already satisfied: analytics-python in /Users/simonkuhn/opt/anaconda3/lib/python3.9/site-packages (from mitosheet) (1.4.0)\n",
      "Requirement already satisfied: plotly>=4.14.3 in /Users/simonkuhn/opt/anaconda3/lib/python3.9/site-packages (from mitosheet) (5.9.0)\n",
      "Requirement already satisfied: xlsxwriter<=3.0.2,>=0.6.9 in /Users/simonkuhn/opt/anaconda3/lib/python3.9/site-packages (from mitosheet) (3.0.2)\n",
      "Requirement already satisfied: pandas>=0.24.2 in /Users/simonkuhn/opt/anaconda3/lib/python3.9/site-packages (from mitosheet) (1.4.4)\n",
      "Requirement already satisfied: openpyxl in /Users/simonkuhn/opt/anaconda3/lib/python3.9/site-packages (from mitosheet) (3.0.10)\n",
      "Requirement already satisfied: chardet>=3.0.4 in /Users/simonkuhn/opt/anaconda3/lib/python3.9/site-packages (from mitosheet) (4.0.0)\n",
      "Requirement already satisfied: jupyter-core in /Users/simonkuhn/opt/anaconda3/lib/python3.9/site-packages (from jupyterlab~=3.0->mitosheet) (4.11.1)\n",
      "Requirement already satisfied: packaging in /Users/simonkuhn/opt/anaconda3/lib/python3.9/site-packages (from jupyterlab~=3.0->mitosheet) (21.3)\n",
      "Requirement already satisfied: jupyterlab-server~=2.10 in /Users/simonkuhn/opt/anaconda3/lib/python3.9/site-packages (from jupyterlab~=3.0->mitosheet) (2.10.3)\n",
      "Requirement already satisfied: tornado>=6.1.0 in /Users/simonkuhn/opt/anaconda3/lib/python3.9/site-packages (from jupyterlab~=3.0->mitosheet) (6.1)\n",
      "Requirement already satisfied: jinja2>=2.1 in /Users/simonkuhn/opt/anaconda3/lib/python3.9/site-packages (from jupyterlab~=3.0->mitosheet) (2.11.3)\n",
      "Requirement already satisfied: ipython in /Users/simonkuhn/opt/anaconda3/lib/python3.9/site-packages (from jupyterlab~=3.0->mitosheet) (7.31.1)\n",
      "Requirement already satisfied: nbclassic in /Users/simonkuhn/opt/anaconda3/lib/python3.9/site-packages (from jupyterlab~=3.0->mitosheet) (0.3.5)\n",
      "Requirement already satisfied: jupyter-server~=1.16 in /Users/simonkuhn/opt/anaconda3/lib/python3.9/site-packages (from jupyterlab~=3.0->mitosheet) (1.18.1)\n",
      "Requirement already satisfied: notebook<7 in /Users/simonkuhn/opt/anaconda3/lib/python3.9/site-packages (from jupyterlab~=3.0->mitosheet) (6.4.12)\n",
      "Requirement already satisfied: python-dateutil>=2.8.1 in /Users/simonkuhn/opt/anaconda3/lib/python3.9/site-packages (from pandas>=0.24.2->mitosheet) (2.8.2)\n",
      "Requirement already satisfied: pytz>=2020.1 in /Users/simonkuhn/opt/anaconda3/lib/python3.9/site-packages (from pandas>=0.24.2->mitosheet) (2022.1)\n",
      "Requirement already satisfied: numpy>=1.18.5 in /Users/simonkuhn/opt/anaconda3/lib/python3.9/site-packages (from pandas>=0.24.2->mitosheet) (1.21.5)\n",
      "Requirement already satisfied: tenacity>=6.2.0 in /Users/simonkuhn/opt/anaconda3/lib/python3.9/site-packages (from plotly>=4.14.3->mitosheet) (8.0.1)\n",
      "Requirement already satisfied: monotonic>=1.5 in /Users/simonkuhn/opt/anaconda3/lib/python3.9/site-packages (from analytics-python->mitosheet) (1.6)\n",
      "Requirement already satisfied: requests<3.0,>=2.7 in /Users/simonkuhn/opt/anaconda3/lib/python3.9/site-packages (from analytics-python->mitosheet) (2.28.1)\n",
      "Requirement already satisfied: six>=1.5 in /Users/simonkuhn/opt/anaconda3/lib/python3.9/site-packages (from analytics-python->mitosheet) (1.16.0)\n",
      "Requirement already satisfied: backoff==1.10.0 in /Users/simonkuhn/opt/anaconda3/lib/python3.9/site-packages (from analytics-python->mitosheet) (1.10.0)\n",
      "Requirement already satisfied: et_xmlfile in /Users/simonkuhn/opt/anaconda3/lib/python3.9/site-packages (from openpyxl->mitosheet) (1.1.0)\n",
      "Requirement already satisfied: MarkupSafe>=0.23 in /Users/simonkuhn/opt/anaconda3/lib/python3.9/site-packages (from jinja2>=2.1->jupyterlab~=3.0->mitosheet) (2.0.1)\n",
      "Requirement already satisfied: nbconvert>=6.4.4 in /Users/simonkuhn/opt/anaconda3/lib/python3.9/site-packages (from jupyter-server~=1.16->jupyterlab~=3.0->mitosheet) (6.4.4)\n",
      "Requirement already satisfied: jupyter-client>=6.1.12 in /Users/simonkuhn/opt/anaconda3/lib/python3.9/site-packages (from jupyter-server~=1.16->jupyterlab~=3.0->mitosheet) (7.3.4)\n",
      "Requirement already satisfied: pyzmq>=17 in /Users/simonkuhn/opt/anaconda3/lib/python3.9/site-packages (from jupyter-server~=1.16->jupyterlab~=3.0->mitosheet) (23.2.0)\n",
      "Requirement already satisfied: traitlets>=5.1 in /Users/simonkuhn/opt/anaconda3/lib/python3.9/site-packages (from jupyter-server~=1.16->jupyterlab~=3.0->mitosheet) (5.1.1)\n",
      "Requirement already satisfied: Send2Trash in /Users/simonkuhn/opt/anaconda3/lib/python3.9/site-packages (from jupyter-server~=1.16->jupyterlab~=3.0->mitosheet) (1.8.0)\n",
      "Requirement already satisfied: nbformat>=5.2.0 in /Users/simonkuhn/opt/anaconda3/lib/python3.9/site-packages (from jupyter-server~=1.16->jupyterlab~=3.0->mitosheet) (5.5.0)\n",
      "Requirement already satisfied: anyio<4,>=3.1.0 in /Users/simonkuhn/opt/anaconda3/lib/python3.9/site-packages (from jupyter-server~=1.16->jupyterlab~=3.0->mitosheet) (3.5.0)\n",
      "Requirement already satisfied: prometheus-client in /Users/simonkuhn/opt/anaconda3/lib/python3.9/site-packages (from jupyter-server~=1.16->jupyterlab~=3.0->mitosheet) (0.14.1)\n",
      "Requirement already satisfied: terminado>=0.8.3 in /Users/simonkuhn/opt/anaconda3/lib/python3.9/site-packages (from jupyter-server~=1.16->jupyterlab~=3.0->mitosheet) (0.13.1)\n",
      "Requirement already satisfied: websocket-client in /Users/simonkuhn/opt/anaconda3/lib/python3.9/site-packages (from jupyter-server~=1.16->jupyterlab~=3.0->mitosheet) (0.58.0)\n",
      "Requirement already satisfied: argon2-cffi in /Users/simonkuhn/opt/anaconda3/lib/python3.9/site-packages (from jupyter-server~=1.16->jupyterlab~=3.0->mitosheet) (21.3.0)\n",
      "Requirement already satisfied: entrypoints>=0.2.2 in /Users/simonkuhn/opt/anaconda3/lib/python3.9/site-packages (from jupyterlab-server~=2.10->jupyterlab~=3.0->mitosheet) (0.4)\n",
      "Requirement already satisfied: jsonschema>=3.0.1 in /Users/simonkuhn/opt/anaconda3/lib/python3.9/site-packages (from jupyterlab-server~=2.10->jupyterlab~=3.0->mitosheet) (4.16.0)\n",
      "Requirement already satisfied: babel in /Users/simonkuhn/opt/anaconda3/lib/python3.9/site-packages (from jupyterlab-server~=2.10->jupyterlab~=3.0->mitosheet) (2.9.1)\n",
      "Requirement already satisfied: json5 in /Users/simonkuhn/opt/anaconda3/lib/python3.9/site-packages (from jupyterlab-server~=2.10->jupyterlab~=3.0->mitosheet) (0.9.6)\n",
      "Requirement already satisfied: ipykernel in /Users/simonkuhn/opt/anaconda3/lib/python3.9/site-packages (from notebook<7->jupyterlab~=3.0->mitosheet) (6.15.2)\n",
      "Requirement already satisfied: ipython-genutils in /Users/simonkuhn/opt/anaconda3/lib/python3.9/site-packages (from notebook<7->jupyterlab~=3.0->mitosheet) (0.2.0)\n",
      "Requirement already satisfied: nest-asyncio>=1.5 in /Users/simonkuhn/opt/anaconda3/lib/python3.9/site-packages (from notebook<7->jupyterlab~=3.0->mitosheet) (1.5.5)\n",
      "Requirement already satisfied: urllib3<1.27,>=1.21.1 in /Users/simonkuhn/opt/anaconda3/lib/python3.9/site-packages (from requests<3.0,>=2.7->analytics-python->mitosheet) (1.26.11)\n",
      "Requirement already satisfied: idna<4,>=2.5 in /Users/simonkuhn/opt/anaconda3/lib/python3.9/site-packages (from requests<3.0,>=2.7->analytics-python->mitosheet) (3.3)\n",
      "Requirement already satisfied: charset-normalizer<3,>=2 in /Users/simonkuhn/opt/anaconda3/lib/python3.9/site-packages (from requests<3.0,>=2.7->analytics-python->mitosheet) (2.0.4)\n",
      "Requirement already satisfied: certifi>=2017.4.17 in /Users/simonkuhn/opt/anaconda3/lib/python3.9/site-packages (from requests<3.0,>=2.7->analytics-python->mitosheet) (2022.9.24)\n",
      "Requirement already satisfied: decorator in /Users/simonkuhn/opt/anaconda3/lib/python3.9/site-packages (from ipython->jupyterlab~=3.0->mitosheet) (5.1.1)\n",
      "Requirement already satisfied: matplotlib-inline in /Users/simonkuhn/opt/anaconda3/lib/python3.9/site-packages (from ipython->jupyterlab~=3.0->mitosheet) (0.1.6)\n",
      "Requirement already satisfied: backcall in /Users/simonkuhn/opt/anaconda3/lib/python3.9/site-packages (from ipython->jupyterlab~=3.0->mitosheet) (0.2.0)\n",
      "Requirement already satisfied: pickleshare in /Users/simonkuhn/opt/anaconda3/lib/python3.9/site-packages (from ipython->jupyterlab~=3.0->mitosheet) (0.7.5)\n",
      "Requirement already satisfied: appnope in /Users/simonkuhn/opt/anaconda3/lib/python3.9/site-packages (from ipython->jupyterlab~=3.0->mitosheet) (0.1.2)\n",
      "Requirement already satisfied: prompt-toolkit!=3.0.0,!=3.0.1,<3.1.0,>=2.0.0 in /Users/simonkuhn/opt/anaconda3/lib/python3.9/site-packages (from ipython->jupyterlab~=3.0->mitosheet) (3.0.20)\n",
      "Requirement already satisfied: setuptools>=18.5 in /Users/simonkuhn/opt/anaconda3/lib/python3.9/site-packages (from ipython->jupyterlab~=3.0->mitosheet) (63.4.1)\n",
      "Requirement already satisfied: pygments in /Users/simonkuhn/opt/anaconda3/lib/python3.9/site-packages (from ipython->jupyterlab~=3.0->mitosheet) (2.11.2)\n",
      "Requirement already satisfied: jedi>=0.16 in /Users/simonkuhn/opt/anaconda3/lib/python3.9/site-packages (from ipython->jupyterlab~=3.0->mitosheet) (0.18.1)\n",
      "Requirement already satisfied: pexpect>4.3 in /Users/simonkuhn/opt/anaconda3/lib/python3.9/site-packages (from ipython->jupyterlab~=3.0->mitosheet) (4.8.0)\n",
      "Requirement already satisfied: pyparsing!=3.0.5,>=2.0.2 in /Users/simonkuhn/opt/anaconda3/lib/python3.9/site-packages (from packaging->jupyterlab~=3.0->mitosheet) (3.0.9)\n"
     ]
    },
    {
     "name": "stdout",
     "output_type": "stream",
     "text": [
      "Requirement already satisfied: sniffio>=1.1 in /Users/simonkuhn/opt/anaconda3/lib/python3.9/site-packages (from anyio<4,>=3.1.0->jupyter-server~=1.16->jupyterlab~=3.0->mitosheet) (1.2.0)\n",
      "Requirement already satisfied: parso<0.9.0,>=0.8.0 in /Users/simonkuhn/opt/anaconda3/lib/python3.9/site-packages (from jedi>=0.16->ipython->jupyterlab~=3.0->mitosheet) (0.8.3)\n",
      "Requirement already satisfied: pyrsistent!=0.17.0,!=0.17.1,!=0.17.2,>=0.14.0 in /Users/simonkuhn/opt/anaconda3/lib/python3.9/site-packages (from jsonschema>=3.0.1->jupyterlab-server~=2.10->jupyterlab~=3.0->mitosheet) (0.18.0)\n",
      "Requirement already satisfied: attrs>=17.4.0 in /Users/simonkuhn/opt/anaconda3/lib/python3.9/site-packages (from jsonschema>=3.0.1->jupyterlab-server~=2.10->jupyterlab~=3.0->mitosheet) (21.4.0)\n",
      "Requirement already satisfied: testpath in /Users/simonkuhn/opt/anaconda3/lib/python3.9/site-packages (from nbconvert>=6.4.4->jupyter-server~=1.16->jupyterlab~=3.0->mitosheet) (0.6.0)\n",
      "Requirement already satisfied: defusedxml in /Users/simonkuhn/opt/anaconda3/lib/python3.9/site-packages (from nbconvert>=6.4.4->jupyter-server~=1.16->jupyterlab~=3.0->mitosheet) (0.7.1)\n",
      "Requirement already satisfied: beautifulsoup4 in /Users/simonkuhn/opt/anaconda3/lib/python3.9/site-packages (from nbconvert>=6.4.4->jupyter-server~=1.16->jupyterlab~=3.0->mitosheet) (4.11.1)\n",
      "Requirement already satisfied: nbclient<0.6.0,>=0.5.0 in /Users/simonkuhn/opt/anaconda3/lib/python3.9/site-packages (from nbconvert>=6.4.4->jupyter-server~=1.16->jupyterlab~=3.0->mitosheet) (0.5.13)\n",
      "Requirement already satisfied: mistune<2,>=0.8.1 in /Users/simonkuhn/opt/anaconda3/lib/python3.9/site-packages (from nbconvert>=6.4.4->jupyter-server~=1.16->jupyterlab~=3.0->mitosheet) (0.8.4)\n",
      "Requirement already satisfied: jupyterlab-pygments in /Users/simonkuhn/opt/anaconda3/lib/python3.9/site-packages (from nbconvert>=6.4.4->jupyter-server~=1.16->jupyterlab~=3.0->mitosheet) (0.1.2)\n",
      "Requirement already satisfied: bleach in /Users/simonkuhn/opt/anaconda3/lib/python3.9/site-packages (from nbconvert>=6.4.4->jupyter-server~=1.16->jupyterlab~=3.0->mitosheet) (4.1.0)\n",
      "Requirement already satisfied: pandocfilters>=1.4.1 in /Users/simonkuhn/opt/anaconda3/lib/python3.9/site-packages (from nbconvert>=6.4.4->jupyter-server~=1.16->jupyterlab~=3.0->mitosheet) (1.5.0)\n",
      "Requirement already satisfied: fastjsonschema in /Users/simonkuhn/opt/anaconda3/lib/python3.9/site-packages (from nbformat>=5.2.0->jupyter-server~=1.16->jupyterlab~=3.0->mitosheet) (2.16.2)\n",
      "Requirement already satisfied: ptyprocess>=0.5 in /Users/simonkuhn/opt/anaconda3/lib/python3.9/site-packages (from pexpect>4.3->ipython->jupyterlab~=3.0->mitosheet) (0.7.0)\n",
      "Requirement already satisfied: wcwidth in /Users/simonkuhn/opt/anaconda3/lib/python3.9/site-packages (from prompt-toolkit!=3.0.0,!=3.0.1,<3.1.0,>=2.0.0->ipython->jupyterlab~=3.0->mitosheet) (0.2.5)\n",
      "Requirement already satisfied: argon2-cffi-bindings in /Users/simonkuhn/opt/anaconda3/lib/python3.9/site-packages (from argon2-cffi->jupyter-server~=1.16->jupyterlab~=3.0->mitosheet) (21.2.0)\n",
      "Requirement already satisfied: debugpy>=1.0 in /Users/simonkuhn/opt/anaconda3/lib/python3.9/site-packages (from ipykernel->notebook<7->jupyterlab~=3.0->mitosheet) (1.5.1)\n",
      "Requirement already satisfied: psutil in /Users/simonkuhn/opt/anaconda3/lib/python3.9/site-packages (from ipykernel->notebook<7->jupyterlab~=3.0->mitosheet) (5.9.0)\n",
      "Requirement already satisfied: cffi>=1.0.1 in /Users/simonkuhn/opt/anaconda3/lib/python3.9/site-packages (from argon2-cffi-bindings->argon2-cffi->jupyter-server~=1.16->jupyterlab~=3.0->mitosheet) (1.15.1)\n",
      "Requirement already satisfied: soupsieve>1.2 in /Users/simonkuhn/opt/anaconda3/lib/python3.9/site-packages (from beautifulsoup4->nbconvert>=6.4.4->jupyter-server~=1.16->jupyterlab~=3.0->mitosheet) (2.3.1)\n",
      "Requirement already satisfied: webencodings in /Users/simonkuhn/opt/anaconda3/lib/python3.9/site-packages (from bleach->nbconvert>=6.4.4->jupyter-server~=1.16->jupyterlab~=3.0->mitosheet) (0.5.1)\n",
      "Requirement already satisfied: pycparser in /Users/simonkuhn/opt/anaconda3/lib/python3.9/site-packages (from cffi>=1.0.1->argon2-cffi-bindings->argon2-cffi->jupyter-server~=1.16->jupyterlab~=3.0->mitosheet) (2.21)\n",
      "Requirement already satisfied: xgboost in /Users/simonkuhn/opt/anaconda3/lib/python3.9/site-packages (1.7.4)\n",
      "Requirement already satisfied: scipy in /Users/simonkuhn/opt/anaconda3/lib/python3.9/site-packages (from xgboost) (1.9.1)\n",
      "Requirement already satisfied: numpy in /Users/simonkuhn/opt/anaconda3/lib/python3.9/site-packages (from xgboost) (1.21.5)\n"
     ]
    }
   ],
   "source": [
    "import numpy as np # linear algebra\n",
    "import pandas as pd # data processing, CSV file I/O (e.g. pd.read_csv)\n",
    "from collections import Counter\n",
    "import matplotlib.pyplot as plt\n",
    "plt.style.use('seaborn')\n",
    "import seaborn as sns\n",
    "from statsmodels.graphics.gofplots import qqplot\n",
    "import plotly.express as px\n",
    "from sklearn.model_selection import train_test_split, GridSearchCV\n",
    "\n",
    "!pip install mitosheet \n",
    "import mitosheet \n",
    "\n",
    "!pip install xgboost\n",
    "import xgboost\n",
    "\n",
    "%config InlineBackend.figure_format = \"svg\""
   ]
  },
  {
   "cell_type": "code",
   "execution_count": 3,
   "id": "fa8df7e7",
   "metadata": {},
   "outputs": [],
   "source": [
    "df = pd.read_csv('../datasets/train.csv')"
   ]
  },
  {
   "cell_type": "code",
   "execution_count": 4,
   "id": "d62b9d08",
   "metadata": {},
   "outputs": [],
   "source": [
    "# Remove irrelevant columns"
   ]
  },
  {
   "cell_type": "code",
   "execution_count": 5,
   "id": "dd5c5af0",
   "metadata": {},
   "outputs": [],
   "source": [
    "# Deleted columns property_id\n",
    "df.drop(['property_id'], axis=1, inplace=True)\n",
    "\n",
    "# Deleted columns property_name\n",
    "df.drop(['property_name'], axis=1, inplace=True)\n",
    "\n",
    "# Deleted columns property_summary\n",
    "df.drop(['property_summary'], axis=1, inplace=True)\n",
    "\n",
    "# Deleted columns property_space\n",
    "df.drop(['property_space'], axis=1, inplace=True)\n",
    "\n",
    "# Deleted columns property_desc\n",
    "df.drop(['property_desc'], axis=1, inplace=True)\n",
    "\n",
    "# Deleted columns property_neighborhood\n",
    "df.drop(['property_neighborhood'], axis=1, inplace=True)\n",
    "\n",
    "# Deleted columns property_notes\n",
    "df.drop(['property_notes'], axis=1, inplace=True)\n",
    "\n",
    "# Deleted columns property_transit\n",
    "df.drop(['property_transit'], axis=1, inplace=True)\n",
    "\n",
    "# Deleted columns property_access\n",
    "df.drop(['property_access'], axis=1, inplace=True)\n",
    "\n",
    "# Deleted columns property_interaction\n",
    "df.drop(['property_interaction'], axis=1, inplace=True)\n",
    "\n",
    "# Deleted columns property_rules\n",
    "df.drop(['property_rules'], axis=1, inplace=True)\n",
    "\n",
    "# Deleted columns property_sqfeet\n",
    "df.drop(['property_sqfeet'], axis=1, inplace=True)\n",
    "\n",
    "# Deleted columns property_scraped_at\n",
    "df.drop(['property_scraped_at'], axis=1, inplace=True)\n",
    "\n",
    "# Deleted columns property_last_updated\n",
    "df.drop(['property_last_updated'], axis=1, inplace=True)\n",
    "\n",
    "# Deleted columns host_id\n",
    "df.drop(['host_id'], axis=1, inplace=True)\n",
    "\n",
    "# Deleted columns host_location\n",
    "df.drop(['host_location'], axis=1, inplace=True)\n",
    "\n",
    "# Deleted columns host_about\n",
    "df.drop(['host_about'], axis=1, inplace=True)\n",
    "\n",
    "# Deleted columns host_nr_listings_total\n",
    "df.drop(['host_nr_listings_total'], axis=1, inplace=True)\n",
    "\n",
    "# Deleted columns host_verified\n",
    "df.drop(['host_verified'], axis=1, inplace=True)\n",
    "\n",
    "# Deleted columns booking_max_nights\n",
    "df.drop(['booking_max_nights'], axis=1, inplace=True)\n",
    "\n",
    "# Deleted columns reviews_first\n",
    "df.drop(['reviews_first'], axis=1, inplace=True)\n",
    "\n",
    "# Deleted columns reviews_last\n",
    "df.drop(['reviews_last'], axis=1, inplace=True)"
   ]
  },
  {
   "cell_type": "code",
   "execution_count": 6,
   "id": "ea82c5bf",
   "metadata": {},
   "outputs": [],
   "source": [
    "# Transform target to logarithm (target)\n",
    "df['target'] = np.log(df['target'])"
   ]
  },
  {
   "cell_type": "code",
   "execution_count": 7,
   "id": "076aa156",
   "metadata": {},
   "outputs": [],
   "source": [
    "# Remove target outliers\n",
    "Q1_target = df['target'].quantile(0.25)\n",
    "Q3_target = df['target'].quantile(0.75)\n",
    "IQR_target = Q3_target - Q1_target\n",
    "\n",
    "lower_bound_target = Q1_target - 1.5 * IQR_target\n",
    "upper_bound_target = Q3_target + 1.5 * IQR_target\n",
    "\n",
    "df = df[(df['target'] >= lower_bound_target) & (df['target'] <= upper_bound_target)]"
   ]
  },
  {
   "cell_type": "code",
   "execution_count": 8,
   "id": "375cf01d",
   "metadata": {},
   "outputs": [
    {
     "data": {
      "text/plain": [
       "1267"
      ]
     },
     "execution_count": 8,
     "metadata": {},
     "output_type": "execute_result"
    }
   ],
   "source": [
    "# Check for missing values\n",
    "df['reviews_per_month'].isna().sum()"
   ]
  },
  {
   "cell_type": "code",
   "execution_count": null,
   "id": "97a6f3f7",
   "metadata": {},
   "outputs": [],
   "source": [
    "df['reviews_per_month'].dropna().unique()"
   ]
  },
  {
   "cell_type": "code",
   "execution_count": null,
   "id": "7b05d5fc",
   "metadata": {},
   "outputs": [],
   "source": [
    "sns.set(style='darkgrid')\n",
    "plt.figure(figsize=(3,3))\n",
    "sns.countplot(y = df['reviews_per_month'],order = df['reviews_per_month'].value_counts().index,palette = \"viridis\")\n",
    "plt.ylabel('reviews_per_month',fontsize = 10, weight = 'bold',color='black')\n",
    "#plt.axes().set(facecolor = \"White\")\n",
    "plt.show()"
   ]
  },
  {
   "cell_type": "code",
   "execution_count": null,
   "id": "fb718e47",
   "metadata": {},
   "outputs": [],
   "source": [
    "# Generate the boxplot\n",
    "plt.figure(figsize=(10, 6))\n",
    "ax = sns.boxplot(x='reviews_per_month', y='target', data=df)\n",
    "ax.set_title('Target distribution by reviews per month')\n",
    "ax.set_xlabel('Reviews per month')\n",
    "ax.set_ylabel('Target')\n",
    "plt.show()"
   ]
  },
  {
   "cell_type": "code",
   "execution_count": null,
   "id": "b22be823",
   "metadata": {},
   "outputs": [],
   "source": [
    "# Generate the statistical description\n",
    "df.groupby('reviews_per_month')['target'].describe()"
   ]
  },
  {
   "cell_type": "code",
   "execution_count": null,
   "id": "53f47f13",
   "metadata": {},
   "outputs": [],
   "source": [
    "# Check if there are significant differences in price between the types\n",
    "from scipy.stats import f_oneway\n",
    "\n",
    "policy_groups = [group['target'] for name, group in df.groupby('reviews_per_month')]\n",
    "f_stat, p_value = f_oneway(*policy_groups)\n",
    "\n",
    "if p_value < 0.05:\n",
    "    print(\"There are significant differences in target values between types\")\n",
    "else:\n",
    "    print(\"There are no significant differences in target values between types\")"
   ]
  },
  {
   "cell_type": "code",
   "execution_count": null,
   "id": "bd1d0fa5",
   "metadata": {},
   "outputs": [],
   "source": [
    "# Because of the reasons highlighted in this EDA, we have decided to remove reviews_rating\n",
    "# as an attribute from our training set."
   ]
  }
 ],
 "metadata": {
  "kernelspec": {
   "display_name": "Python 3 (ipykernel)",
   "language": "python",
   "name": "python3"
  },
  "language_info": {
   "codemirror_mode": {
    "name": "ipython",
    "version": 3
   },
   "file_extension": ".py",
   "mimetype": "text/x-python",
   "name": "python",
   "nbconvert_exporter": "python",
   "pygments_lexer": "ipython3",
   "version": "3.9.13"
  }
 },
 "nbformat": 4,
 "nbformat_minor": 5
}
